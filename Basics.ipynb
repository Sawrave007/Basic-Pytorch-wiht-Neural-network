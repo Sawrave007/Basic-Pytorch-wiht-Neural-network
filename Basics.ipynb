{
 "cells": [
  {
   "cell_type": "code",
   "execution_count": 2,
   "id": "c7be436e",
   "metadata": {},
   "outputs": [],
   "source": [
    "import torch"
   ]
  },
  {
   "cell_type": "code",
   "execution_count": 3,
   "id": "9d1678ce",
   "metadata": {},
   "outputs": [],
   "source": [
    "import numpy as np\n",
    "import torch.nn as nn"
   ]
  },
  {
   "cell_type": "code",
   "execution_count": 13,
   "id": "3be9a596",
   "metadata": {},
   "outputs": [
    {
     "data": {
      "text/plain": [
       "array([[0.41582104, 0.54014328, 0.94767384, 0.81200543],\n",
       "       [0.891864  , 0.93261644, 0.09048668, 0.99375229],\n",
       "       [0.95240622, 0.70228141, 0.98000575, 0.00983697]])"
      ]
     },
     "execution_count": 13,
     "metadata": {},
     "output_type": "execute_result"
    }
   ],
   "source": [
    "np1 = np.random.rand(3, 4)\n",
    "np1\n"
   ]
  },
  {
   "cell_type": "code",
   "execution_count": 10,
   "id": "4e971185",
   "metadata": {},
   "outputs": [
    {
     "data": {
      "text/plain": [
       "tensor([[0.9474, 0.6644, 0.8351, 0.5190],\n",
       "        [0.3050, 0.0196, 0.8621, 0.6367],\n",
       "        [0.7717, 0.5494, 0.1921, 0.5648]])"
      ]
     },
     "execution_count": 10,
     "metadata": {},
     "output_type": "execute_result"
    }
   ],
   "source": [
    "tensor = torch.rand(3, 4)\n",
    "tensor"
   ]
  },
  {
   "cell_type": "code",
   "execution_count": 11,
   "id": "d9e8970c",
   "metadata": {},
   "outputs": [
    {
     "name": "stdout",
     "output_type": "stream",
     "text": [
      "tensor([[-0.2976, -0.5314, -0.3171, -0.6162],\n",
      "        [-1.8430, -0.6917, -0.5225,  0.0506],\n",
      "        [-0.3663, -0.0273,  0.2137,  0.7366]])\n",
      "torch.Size([3, 4])\n",
      "tensor([-0.2976, -0.5314, -0.3171, -0.6162])\n",
      "torch.float32\n",
      "tensor([[0.9512, 0.4568, 0.2774, 0.4793],\n",
      "        [0.0588, 0.3883, 0.8460, 0.6828],\n",
      "        [0.7955, 0.3268, 0.3857, 0.3728]], dtype=torch.float64)\n",
      "torch.float64\n",
      "tensor([1, 2, 3])\n",
      "torch.int64\n"
     ]
    }
   ],
   "source": [
    "tensor = torch.randn(3, 4)\n",
    "print(tensor)\n",
    "print(tensor.size())\n",
    "print(tensor[0])\n",
    "print(tensor.dtype)\n",
    "tensor1 = torch.tensor(np1)\n",
    "print(tensor1)\n",
    "print(tensor1.dtype)\n",
    "tesnor2 = torch.tensor([1, 2, 3])\n",
    "print(tesnor2)\n",
    "print(tesnor2.dtype)"
   ]
  },
  {
   "cell_type": "markdown",
   "id": "fd6f5cfa",
   "metadata": {},
   "source": [
    "torch.rand()\tUniform [0, 1)\tPositive only\t        Normalized data, probabilities\n",
    "torch.randn()\tNormal (mean=0)\tPositive & negative\t    Neural net weights, noise"
   ]
  },
  {
   "cell_type": "code",
   "execution_count": 31,
   "id": "3f98f563",
   "metadata": {},
   "outputs": [
    {
     "name": "stdout",
     "output_type": "stream",
     "text": [
      "tensor([0, 1, 2, 3, 4, 5, 6, 7, 8, 9])\n"
     ]
    }
   ],
   "source": [
    "my_torch = torch.arange(10)\n",
    "print(my_torch)"
   ]
  },
  {
   "cell_type": "code",
   "execution_count": 32,
   "id": "eb779127",
   "metadata": {},
   "outputs": [
    {
     "data": {
      "text/plain": [
       "tensor([[0, 1, 2, 3, 4],\n",
       "        [5, 6, 7, 8, 9]])"
      ]
     },
     "execution_count": 32,
     "metadata": {},
     "output_type": "execute_result"
    }
   ],
   "source": [
    "my_torch1 = my_torch.view(2, 5)\n",
    "my_torch1"
   ]
  },
  {
   "cell_type": "code",
   "execution_count": 33,
   "id": "1fab0cee",
   "metadata": {},
   "outputs": [
    {
     "data": {
      "text/plain": [
       "tensor([[0, 1, 2, 3, 4],\n",
       "        [5, 6, 7, 8, 9]])"
      ]
     },
     "execution_count": 33,
     "metadata": {},
     "output_type": "execute_result"
    }
   ],
   "source": [
    "my_torch2 = my_torch.view(2, -1)\n",
    "my_torch2"
   ]
  },
  {
   "cell_type": "code",
   "execution_count": 34,
   "id": "df854f42",
   "metadata": {},
   "outputs": [
    {
     "data": {
      "text/plain": [
       "tensor([  0, 100,   2,   3,   4,   5,   6,   7,   8,   9])"
      ]
     },
     "execution_count": 34,
     "metadata": {},
     "output_type": "execute_result"
    }
   ],
   "source": [
    "my_torch[1] = 100\n",
    "my_torch"
   ]
  },
  {
   "cell_type": "code",
   "execution_count": 35,
   "id": "f9fde92e",
   "metadata": {},
   "outputs": [
    {
     "data": {
      "text/plain": [
       "tensor([[  0, 100,   2,   3,   4],\n",
       "        [  5,   6,   7,   8,   9]])"
      ]
     },
     "execution_count": 35,
     "metadata": {},
     "output_type": "execute_result"
    }
   ],
   "source": [
    "my_torch1 # autmaticaally updated "
   ]
  },
  {
   "cell_type": "code",
   "execution_count": 45,
   "id": "ec021be3",
   "metadata": {},
   "outputs": [
    {
     "data": {
      "text/plain": [
       "tensor([[  0, 100],\n",
       "        [  2,   3],\n",
       "        [  4,   5],\n",
       "        [  6,   7],\n",
       "        [  8,   9]])"
      ]
     },
     "execution_count": 45,
     "metadata": {},
     "output_type": "execute_result"
    }
   ],
   "source": [
    "my_torch3 = my_torch.reshape(5, 2)\n",
    "my_torch3"
   ]
  },
  {
   "cell_type": "code",
   "execution_count": 46,
   "id": "727cf121",
   "metadata": {},
   "outputs": [
    {
     "data": {
      "text/plain": [
       "tensor([[100],\n",
       "        [  3],\n",
       "        [  5],\n",
       "        [  7],\n",
       "        [  9]])"
      ]
     },
     "execution_count": 46,
     "metadata": {},
     "output_type": "execute_result"
    }
   ],
   "source": [
    "my_torch3 = my_torch3[ :,1: ]\n",
    "my_torch3"
   ]
  },
  {
   "cell_type": "code",
   "execution_count": null,
   "id": "29665d90",
   "metadata": {},
   "outputs": [],
   "source": []
  }
 ],
 "metadata": {
  "kernelspec": {
   "display_name": "base",
   "language": "python",
   "name": "python3"
  },
  "language_info": {
   "codemirror_mode": {
    "name": "ipython",
    "version": 3
   },
   "file_extension": ".py",
   "mimetype": "text/x-python",
   "name": "python",
   "nbconvert_exporter": "python",
   "pygments_lexer": "ipython3",
   "version": "3.11.5"
  }
 },
 "nbformat": 4,
 "nbformat_minor": 5
}
